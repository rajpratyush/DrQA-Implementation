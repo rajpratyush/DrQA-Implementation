{
  "cells": [
    {
      "cell_type": "code",
      "source": [
        "# Install a Drive FUSE wrapper.\n",
        "# https://github.com/astrada/google-drive-ocamlfuse\n",
        "!apt-get install -y -qq software-properties-common python-software-properties module-init-tools\n",
        "!add-apt-repository -y ppa:alessandro-strada/ppa 2>&1 > /dev/null\n",
        "!apt-get update -qq 2>&1 > /dev/null\n",
        "!apt-get -y install -qq google-drive-ocamlfuse fuse\n",
        "\n",
        "\n",
        "\n",
        "# Generate auth tokens for Colab\n",
        "from google.colab import auth\n",
        "auth.authenticate_user()\n",
        "\n",
        "\n",
        "# Generate creds for the Drive FUSE library.\n",
        "from oauth2client.client import GoogleCredentials\n",
        "creds = GoogleCredentials.get_application_default()\n",
        "import getpass\n",
        "!google-drive-ocamlfuse -headless -id={creds.client_id} -secret={creds.client_secret} < /dev/null 2>&1 | grep URL\n",
        "vcode = getpass.getpass()\n",
        "!echo {vcode} | google-drive-ocamlfuse -headless -id={creds.client_id} -secret={creds.client_secret}\n",
        "\n",
        "\n",
        "# Create a directory and mount Google Drive using that directory.\n",
        "!mkdir -p My Drive\n",
        "!google-drive-ocamlfuse My Drive\n",
        "\n",
        "\n",
        "!ls My Drive/\n",
        "\n",
        "# Create a file in Drive.\n",
        "!echo \"This newly created file will appear in your Drive file list.\" > My Drive/created.txt"
      ],
      "metadata": {
        "colab": {
          "base_uri": "https://localhost:8080/"
        },
        "id": "8Txqu315R8iO",
        "outputId": "8a37fc20-f50e-4304-d611-085b9a15a2d4"
      },
      "execution_count": 1,
      "outputs": [
        {
          "output_type": "stream",
          "name": "stdout",
          "text": [
            "E: Package 'python-software-properties' has no installation candidate\n",
            "Selecting previously unselected package google-drive-ocamlfuse.\n",
            "(Reading database ... 155335 files and directories currently installed.)\n",
            "Preparing to unpack .../google-drive-ocamlfuse_0.7.27-0ubuntu1~ubuntu18.04.1_amd64.deb ...\n",
            "Unpacking google-drive-ocamlfuse (0.7.27-0ubuntu1~ubuntu18.04.1) ...\n",
            "Setting up google-drive-ocamlfuse (0.7.27-0ubuntu1~ubuntu18.04.1) ...\n",
            "Processing triggers for man-db (2.8.3-2ubuntu0.1) ...\n",
            "Please, open the following URL in a web browser: https://accounts.google.com/o/oauth2/auth?client_id=32555940559.apps.googleusercontent.com&redirect_uri=urn%3Aietf%3Awg%3Aoauth%3A2.0%3Aoob&scope=https%3A%2F%2Fwww.googleapis.com%2Fauth%2Fdrive&response_type=code&access_type=offline&approval_prompt=force\n",
            "··········\n",
            "Please, open the following URL in a web browser: https://accounts.google.com/o/oauth2/auth?client_id=32555940559.apps.googleusercontent.com&redirect_uri=urn%3Aietf%3Awg%3Aoauth%3A2.0%3Aoob&scope=https%3A%2F%2Fwww.googleapis.com%2Fauth%2Fdrive&response_type=code&access_type=offline&approval_prompt=force\n",
            "Please enter the verification code: Access token retrieved correctly.\n",
            "Drive/:\n",
            "\"Pratyush Raj's Resume.pdf\"  's6 grade card.pdf'\n",
            "\n",
            "My:\n",
            "/bin/bash: My: Is a directory\n"
          ]
        }
      ]
    },
    {
      "cell_type": "code",
      "execution_count": 1,
      "metadata": {
        "id": "F97umMkjuLhl",
        "colab": {
          "base_uri": "https://localhost:8080/"
        },
        "outputId": "723d69ea-ab8f-4656-fe2a-9d487d49eb0a"
      },
      "outputs": [
        {
          "output_type": "stream",
          "name": "stdout",
          "text": [
            "Cloning into 'DrQA'...\n",
            "remote: Enumerating objects: 154, done.\u001b[K\n",
            "remote: Counting objects: 100% (6/6), done.\u001b[K\n",
            "remote: Compressing objects: 100% (5/5), done.\u001b[K\n",
            "remote: Total 154 (delta 0), reused 2 (delta 0), pack-reused 148\u001b[K\n",
            "Receiving objects: 100% (154/154), 90.87 KiB | 3.49 MiB/s, done.\n",
            "Resolving deltas: 100% (76/76), done.\n"
          ]
        }
      ],
      "source": [
        "!git clone https://github.com/hitvoice/DrQA.git"
      ]
    },
    {
      "cell_type": "code",
      "source": [
        "import zipfile\n",
        "\n",
        "\n",
        "zip_ref = zipfile.ZipFile(\"/content/drive/My Drive/DrQA-master.zip\", 'r')\n",
        "zip_ref.extractall(\"/content/drive/MyDrive\")\n",
        "zip_ref.close()"
      ],
      "metadata": {
        "id": "ewcpr85x7JBm"
      },
      "execution_count": 2,
      "outputs": []
    },
    {
      "cell_type": "code",
      "source": [
        "%cd /content/drive/MyDrive/DrQA-master\n"
      ],
      "metadata": {
        "id": "HezA680y6mAt",
        "colab": {
          "base_uri": "https://localhost:8080/"
        },
        "outputId": "6295e83b-10dc-4b11-90a2-f0fac538aab3"
      },
      "execution_count": 3,
      "outputs": [
        {
          "output_type": "stream",
          "name": "stdout",
          "text": [
            "/content/drive/MyDrive/DrQA-master\n"
          ]
        }
      ]
    },
    {
      "cell_type": "code",
      "execution_count": 4,
      "metadata": {
        "id": "tIrkzlZrv4KS",
        "colab": {
          "base_uri": "https://localhost:8080/"
        },
        "outputId": "880e7af1-ce40-47d1-d52e-8b9b5a9f6d24"
      },
      "outputs": [
        {
          "output_type": "stream",
          "name": "stdout",
          "text": [
            "--2022-03-21 04:33:37--  https://repo.continuum.io/archive/Anaconda3-5.1.0-Linux-x86_64.sh\n",
            "Resolving repo.continuum.io (repo.continuum.io)... 104.18.201.79, 104.18.200.79, 2606:4700::6812:c84f, ...\n",
            "Connecting to repo.continuum.io (repo.continuum.io)|104.18.201.79|:443... connected.\n",
            "HTTP request sent, awaiting response... 301 Moved Permanently\n",
            "Location: https://repo.anaconda.com/archive/Anaconda3-5.1.0-Linux-x86_64.sh [following]\n",
            "--2022-03-21 04:33:37--  https://repo.anaconda.com/archive/Anaconda3-5.1.0-Linux-x86_64.sh\n",
            "Resolving repo.anaconda.com (repo.anaconda.com)... 104.16.130.3, 104.16.131.3, 2606:4700::6810:8203, ...\n",
            "Connecting to repo.anaconda.com (repo.anaconda.com)|104.16.130.3|:443... connected.\n",
            "HTTP request sent, awaiting response... 416 Requested Range Not Satisfiable\n",
            "\n",
            "    The file is already fully retrieved; nothing to do.\n",
            "\n",
            "PREFIX=/usr/local\n",
            "installing: python-3.6.4-hc3d631a_1 ...\n",
            "Python 3.6.4 :: Anaconda, Inc.\n",
            "installing: ca-certificates-2017.08.26-h1d4fec5_0 ...\n",
            "installing: conda-env-2.6.0-h36134e3_1 ...\n",
            "installing: intel-openmp-2018.0.0-hc7b2577_8 ...\n",
            "installing: libgcc-ng-7.2.0-h7cc24e2_2 ...\n",
            "installing: libgfortran-ng-7.2.0-h9f7466a_2 ...\n",
            "installing: libstdcxx-ng-7.2.0-h7a57d05_2 ...\n",
            "installing: bzip2-1.0.6-h9a117a8_4 ...\n",
            "installing: expat-2.2.5-he0dffb1_0 ...\n",
            "installing: gmp-6.1.2-h6c8ec71_1 ...\n",
            "installing: graphite2-1.3.10-hf63cedd_1 ...\n",
            "installing: icu-58.2-h9c2bf20_1 ...\n",
            "installing: jbig-2.1-hdba287a_0 ...\n",
            "installing: jpeg-9b-h024ee3a_2 ...\n",
            "installing: libffi-3.2.1-hd88cf55_4 ...\n",
            "installing: libsodium-1.0.15-hf101ebd_0 ...\n",
            "installing: libtool-2.4.6-h544aabb_3 ...\n",
            "installing: libxcb-1.12-hcd93eb1_4 ...\n",
            "installing: lzo-2.10-h49e0be7_2 ...\n",
            "installing: mkl-2018.0.1-h19d6760_4 ...\n",
            "installing: ncurses-6.0-h9df7e31_2 ...\n",
            "installing: openssl-1.0.2n-hb7f436b_0 ...\n",
            "installing: patchelf-0.9-hf79760b_2 ...\n",
            "installing: pcre-8.41-hc27e229_1 ...\n",
            "installing: pixman-0.34.0-hceecf20_3 ...\n",
            "installing: tk-8.6.7-hc745277_3 ...\n",
            "installing: unixodbc-2.3.4-hc36303a_1 ...\n",
            "installing: xz-5.2.3-h55aa19d_2 ...\n",
            "installing: yaml-0.1.7-had09818_2 ...\n",
            "installing: zlib-1.2.11-ha838bed_2 ...\n",
            "installing: glib-2.53.6-h5d9569c_2 ...\n",
            "installing: hdf5-1.10.1-h9caa474_1 ...\n",
            "installing: libedit-3.1-heed3624_0 ...\n",
            "installing: libpng-1.6.34-hb9fc6fc_0 ...\n",
            "installing: libssh2-1.8.0-h9cfc8f7_4 ...\n",
            "installing: libtiff-4.0.9-h28f6b97_0 ...\n",
            "installing: libxml2-2.9.7-h26e45fe_0 ...\n",
            "installing: mpfr-3.1.5-h11a74b3_2 ...\n",
            "installing: pandoc-1.19.2.1-hea2e7c5_1 ...\n",
            "installing: readline-7.0-ha6073c6_4 ...\n",
            "installing: zeromq-4.2.2-hbedb6e5_2 ...\n",
            "installing: dbus-1.12.2-hc3f9b76_1 ...\n",
            "installing: freetype-2.8-hab7d2ae_1 ...\n",
            "installing: gstreamer-1.12.4-hb53b477_0 ...\n",
            "installing: libcurl-7.58.0-h1ad7b7a_0 ...\n",
            "installing: libxslt-1.1.32-h1312cb7_0 ...\n",
            "installing: mpc-1.0.3-hec55b23_5 ...\n",
            "installing: sqlite-3.22.0-h1bed415_0 ...\n",
            "installing: curl-7.58.0-h84994c4_0 ...\n",
            "installing: fontconfig-2.12.4-h88586e7_1 ...\n",
            "installing: gst-plugins-base-1.12.4-h33fb286_0 ...\n",
            "installing: alabaster-0.7.10-py36h306e16b_0 ...\n",
            "installing: asn1crypto-0.24.0-py36_0 ...\n",
            "installing: attrs-17.4.0-py36_0 ...\n",
            "installing: backports-1.0-py36hfa02d7e_1 ...\n",
            "installing: beautifulsoup4-4.6.0-py36h49b8c8c_1 ...\n",
            "installing: bitarray-0.8.1-py36h14c3975_1 ...\n",
            "installing: boto-2.48.0-py36h6e4cd66_1 ...\n",
            "installing: cairo-1.14.12-h77bcde2_0 ...\n",
            "installing: certifi-2018.1.18-py36_0 ...\n",
            "installing: chardet-3.0.4-py36h0f667ec_1 ...\n",
            "installing: click-6.7-py36h5253387_0 ...\n",
            "installing: cloudpickle-0.5.2-py36_1 ...\n",
            "installing: colorama-0.3.9-py36h489cec4_0 ...\n",
            "installing: contextlib2-0.5.5-py36h6c84a62_0 ...\n",
            "installing: dask-core-0.16.1-py36_0 ...\n",
            "installing: decorator-4.2.1-py36_0 ...\n",
            "installing: docutils-0.14-py36hb0f60f5_0 ...\n",
            "installing: entrypoints-0.2.3-py36h1aec115_2 ...\n",
            "installing: et_xmlfile-1.0.1-py36hd6bccc3_0 ...\n",
            "installing: fastcache-1.0.2-py36h14c3975_2 ...\n",
            "installing: filelock-2.0.13-py36h646ffb5_0 ...\n",
            "installing: glob2-0.6-py36he249c77_0 ...\n",
            "installing: gmpy2-2.0.8-py36hc8893dd_2 ...\n",
            "installing: greenlet-0.4.12-py36h2d503a6_0 ...\n",
            "installing: heapdict-1.0.0-py36_2 ...\n",
            "installing: idna-2.6-py36h82fb2a8_1 ...\n",
            "installing: imagesize-0.7.1-py36h52d8127_0 ...\n",
            "installing: ipython_genutils-0.2.0-py36hb52b0d5_0 ...\n",
            "installing: itsdangerous-0.24-py36h93cc618_1 ...\n",
            "installing: jdcal-1.3-py36h4c697fb_0 ...\n",
            "installing: lazy-object-proxy-1.3.1-py36h10fcdad_0 ...\n",
            "installing: llvmlite-0.21.0-py36ha241eea_0 ...\n",
            "installing: locket-0.2.0-py36h787c0ad_1 ...\n",
            "installing: lxml-4.1.1-py36hf71bdeb_1 ...\n",
            "installing: markupsafe-1.0-py36hd9260cd_1 ...\n",
            "installing: mccabe-0.6.1-py36h5ad9710_1 ...\n",
            "installing: mistune-0.8.3-py36_0 ...\n",
            "installing: mkl-service-1.1.2-py36h17a0993_4 ...\n",
            "installing: mpmath-1.0.0-py36hfeacd6b_2 ...\n",
            "installing: msgpack-python-0.5.1-py36h6bb024c_0 ...\n",
            "installing: multipledispatch-0.4.9-py36h41da3fb_0 ...\n",
            "installing: numpy-1.14.0-py36h3dfced4_1 ...\n",
            "installing: olefile-0.45.1-py36_0 ...\n",
            "installing: pandocfilters-1.4.2-py36ha6701b7_1 ...\n",
            "installing: parso-0.1.1-py36h35f843b_0 ...\n",
            "installing: path.py-10.5-py36h55ceabb_0 ...\n",
            "installing: pep8-1.7.1-py36_0 ...\n",
            "installing: pickleshare-0.7.4-py36h63277f8_0 ...\n",
            "installing: pkginfo-1.4.1-py36h215d178_1 ...\n",
            "installing: pluggy-0.6.0-py36hb689045_0 ...\n",
            "installing: ply-3.10-py36hed35086_0 ...\n",
            "installing: psutil-5.4.3-py36h14c3975_0 ...\n",
            "installing: ptyprocess-0.5.2-py36h69acd42_0 ...\n",
            "installing: py-1.5.2-py36h29bf505_0 ...\n",
            "installing: pycodestyle-2.3.1-py36hf609f19_0 ...\n",
            "installing: pycosat-0.6.3-py36h0a5515d_0 ...\n",
            "installing: pycparser-2.18-py36hf9f622e_1 ...\n",
            "installing: pycrypto-2.6.1-py36h14c3975_7 ...\n",
            "installing: pycurl-7.43.0.1-py36hb7f436b_0 ...\n",
            "installing: pyodbc-4.0.22-py36hf484d3e_0 ...\n",
            "installing: pyparsing-2.2.0-py36hee85983_1 ...\n",
            "installing: pysocks-1.6.7-py36hd97a5b1_1 ...\n",
            "installing: pytz-2017.3-py36h63b9c63_0 ...\n",
            "installing: pyyaml-3.12-py36hafb9ca4_1 ...\n",
            "installing: pyzmq-16.0.3-py36he2533c7_0 ...\n",
            "installing: qt-5.6.2-h974d657_12 ...\n",
            "installing: qtpy-1.3.1-py36h3691cc8_0 ...\n",
            "installing: rope-0.10.7-py36h147e2ec_0 ...\n",
            "installing: ruamel_yaml-0.15.35-py36h14c3975_1 ...\n",
            "installing: send2trash-1.4.2-py36_0 ...\n",
            "installing: simplegeneric-0.8.1-py36_2 ...\n",
            "installing: sip-4.18.1-py36h51ed4ed_2 ...\n",
            "installing: six-1.11.0-py36h372c433_1 ...\n",
            "installing: snowballstemmer-1.2.1-py36h6febd40_0 ...\n",
            "installing: sortedcontainers-1.5.9-py36_0 ...\n",
            "installing: sphinxcontrib-1.0-py36h6d0f590_1 ...\n",
            "installing: sqlalchemy-1.2.1-py36h14c3975_0 ...\n",
            "installing: tblib-1.3.2-py36h34cf8b6_0 ...\n",
            "installing: testpath-0.3.1-py36h8cadb63_0 ...\n",
            "installing: toolz-0.9.0-py36_0 ...\n",
            "installing: tornado-4.5.3-py36_0 ...\n",
            "installing: typing-3.6.2-py36h7da032a_0 ...\n",
            "installing: unicodecsv-0.14.1-py36ha668878_0 ...\n",
            "installing: wcwidth-0.1.7-py36hdf4376a_0 ...\n",
            "installing: webencodings-0.5.1-py36h800622e_1 ...\n",
            "installing: werkzeug-0.14.1-py36_0 ...\n",
            "installing: wrapt-1.10.11-py36h28b7045_0 ...\n",
            "installing: xlrd-1.1.0-py36h1db9f0c_1 ...\n",
            "installing: xlsxwriter-1.0.2-py36h3de1aca_0 ...\n",
            "installing: xlwt-1.3.0-py36h7b00a1f_0 ...\n",
            "installing: babel-2.5.3-py36_0 ...\n",
            "installing: backports.shutil_get_terminal_size-1.0.0-py36hfea85ff_2 ...\n",
            "installing: bottleneck-1.2.1-py36haac1ea0_0 ...\n",
            "installing: cffi-1.11.4-py36h9745a5d_0 ...\n",
            "installing: conda-verify-2.0.0-py36h98955d8_0 ...\n",
            "installing: cycler-0.10.0-py36h93f1223_0 ...\n",
            "installing: cytoolz-0.9.0-py36h14c3975_0 ...\n",
            "installing: h5py-2.7.1-py36h3585f63_0 ...\n",
            "installing: harfbuzz-1.7.4-hc5b324e_0 ...\n",
            "installing: html5lib-1.0.1-py36h2f9c1c0_0 ...\n",
            "installing: jedi-0.11.1-py36_0 ...\n",
            "installing: networkx-2.1-py36_0 ...\n",
            "installing: nltk-3.2.5-py36h7532b22_0 ...\n",
            "installing: numba-0.36.2-np114py36hc6662d5_0 ...\n",
            "installing: numexpr-2.6.4-py36hc4a3f9a_0 ...\n",
            "installing: openpyxl-2.4.10-py36_0 ...\n",
            "installing: packaging-16.8-py36ha668100_1 ...\n",
            "installing: partd-0.3.8-py36h36fd896_0 ...\n",
            "installing: pathlib2-2.3.0-py36h49efa8e_0 ...\n",
            "installing: pexpect-4.3.1-py36_0 ...\n",
            "installing: pillow-5.0.0-py36h3deb7b8_0 ...\n",
            "installing: pyqt-5.6.0-py36h0386399_5 ...\n",
            "installing: python-dateutil-2.6.1-py36h88d3b88_1 ...\n",
            "installing: pywavelets-0.5.2-py36he602eb0_0 ...\n",
            "installing: qtawesome-0.4.4-py36h609ed8c_0 ...\n",
            "installing: scipy-1.0.0-py36hbf646e7_0 ...\n",
            "installing: setuptools-38.4.0-py36_0 ...\n",
            "installing: singledispatch-3.4.0.3-py36h7a266c3_0 ...\n",
            "installing: sortedcollections-0.5.3-py36h3c761f9_0 ...\n",
            "installing: sphinxcontrib-websupport-1.0.1-py36hb5cb234_1 ...\n",
            "installing: sympy-1.1.1-py36hc6d1c1c_0 ...\n",
            "installing: terminado-0.8.1-py36_1 ...\n",
            "installing: traitlets-4.3.2-py36h674d592_0 ...\n",
            "installing: zict-0.1.3-py36h3a3bf81_0 ...\n",
            "installing: astroid-1.6.1-py36_0 ...\n",
            "installing: bleach-2.1.2-py36_0 ...\n",
            "installing: clyent-1.2.2-py36h7e57e65_1 ...\n",
            "installing: cryptography-2.1.4-py36hd09be54_0 ...\n",
            "installing: cython-0.27.3-py36h1860423_0 ...\n",
            "installing: datashape-0.5.4-py36h3ad6b5c_0 ...\n",
            "installing: distributed-1.20.2-py36_0 ...\n",
            "installing: get_terminal_size-1.0.0-haa9412d_0 ...\n",
            "installing: gevent-1.2.2-py36h2fe25dc_0 ...\n",
            "installing: imageio-2.2.0-py36he555465_0 ...\n",
            "installing: isort-4.2.15-py36had401c0_0 ...\n",
            "installing: jinja2-2.10-py36ha16c418_0 ...\n",
            "installing: jsonschema-2.6.0-py36h006f8b5_0 ...\n",
            "installing: jupyter_core-4.4.0-py36h7c827e3_0 ...\n",
            "installing: matplotlib-2.1.2-py36h0e671d2_0 ...\n",
            "installing: navigator-updater-0.1.0-py36h14770f7_0 ...\n",
            "installing: nose-1.3.7-py36hcdf7029_2 ...\n",
            "installing: pandas-0.22.0-py36hf484d3e_0 ...\n",
            "installing: pango-1.41.0-hd475d92_0 ...\n",
            "installing: patsy-0.5.0-py36_0 ...\n",
            "installing: pyflakes-1.6.0-py36h7bd6a15_0 ...\n",
            "installing: pygments-2.2.0-py36h0d3125c_0 ...\n",
            "installing: pytables-3.4.2-py36h3b5282a_2 ...\n",
            "installing: pytest-3.3.2-py36_0 ...\n",
            "installing: scikit-learn-0.19.1-py36h7aa7ec6_0 ...\n",
            "installing: wheel-0.30.0-py36hfd4bba0_1 ...\n",
            "installing: astropy-2.0.3-py36h14c3975_0 ...\n",
            "installing: bkcharts-0.2-py36h735825a_0 ...\n",
            "installing: bokeh-0.12.13-py36h2f9c1c0_0 ...\n",
            "installing: flask-0.12.2-py36hb24657c_0 ...\n",
            "installing: jupyter_client-5.2.2-py36_0 ...\n",
            "installing: nbformat-4.4.0-py36h31c9010_0 ...\n",
            "installing: pip-9.0.1-py36h6c6f9ce_4 ...\n",
            "installing: prompt_toolkit-1.0.15-py36h17d85b1_0 ...\n",
            "installing: pylint-1.8.2-py36_0 ...\n",
            "installing: pyopenssl-17.5.0-py36h20ba746_0 ...\n",
            "installing: statsmodels-0.8.0-py36h8533d0b_0 ...\n",
            "installing: dask-0.16.1-py36_0 ...\n",
            "installing: flask-cors-3.0.3-py36h2d857d3_0 ...\n",
            "installing: ipython-6.2.1-py36h88c514a_1 ...\n",
            "installing: nbconvert-5.3.1-py36hb41ffb7_0 ...\n",
            "installing: seaborn-0.8.1-py36hfad7ec4_0 ...\n",
            "installing: urllib3-1.22-py36hbe7ace6_0 ...\n",
            "installing: ipykernel-4.8.0-py36_0 ...\n",
            "installing: odo-0.5.1-py36h90ed295_0 ...\n",
            "installing: requests-2.18.4-py36he2e5f8d_1 ...\n",
            "installing: scikit-image-0.13.1-py36h14c3975_1 ...\n",
            "installing: anaconda-client-1.6.9-py36_0 ...\n",
            "installing: blaze-0.11.3-py36h4e06776_0 ...\n",
            "installing: jupyter_console-5.2.0-py36he59e554_1 ...\n",
            "installing: notebook-5.4.0-py36_0 ...\n",
            "installing: qtconsole-4.3.1-py36h8f73b5b_0 ...\n",
            "installing: sphinx-1.6.6-py36_0 ...\n",
            "installing: anaconda-project-0.8.2-py36h44fb852_0 ...\n",
            "installing: jupyterlab_launcher-0.10.2-py36_0 ...\n",
            "installing: numpydoc-0.7.0-py36h18f165f_0 ...\n",
            "installing: widgetsnbextension-3.1.0-py36_0 ...\n",
            "installing: anaconda-navigator-1.7.0-py36_0 ...\n",
            "installing: ipywidgets-7.1.1-py36_0 ...\n",
            "installing: jupyterlab-0.31.5-py36_0 ...\n",
            "installing: spyder-3.2.6-py36_0 ...\n",
            "installing: _ipyw_jlab_nb_ext_conf-0.1.0-py36he11e457_0 ...\n",
            "installing: jupyter-1.0.0-py36_4 ...\n",
            "installing: anaconda-5.1.0-py36_2 ...\n",
            "installing: conda-4.4.10-py36_0 ...\n",
            "installing: conda-build-3.4.1-py36_0 ...\n",
            "installation finished.\n",
            "WARNING:\n",
            "    You currently have a PYTHONPATH environment variable set. This may cause\n",
            "    unexpected behavior when running the Python interpreter in Anaconda3.\n",
            "    For best results, please verify that your PYTHONPATH only points to\n",
            "    directories of packages that are compatible with the Python interpreter\n",
            "    in Anaconda3: /usr/local\n"
          ]
        }
      ],
      "source": [
        "!wget -c https://repo.continuum.io/archive/Anaconda3-5.1.0-Linux-x86_64.sh\n",
        "\n",
        "!chmod +x Anaconda3-5.1.0-Linux-x86_64.sh\n",
        "\n",
        "!bash ./Anaconda3-5.1.0-Linux-x86_64.sh -b -f -p /usr/local"
      ]
    },
    {
      "cell_type": "code",
      "execution_count": 5,
      "metadata": {
        "id": "9eIBT_B3wBl4",
        "colab": {
          "base_uri": "https://localhost:8080/"
        },
        "outputId": "fa8c90aa-e2b2-45a0-ea8f-4bb92cdd03c4"
      },
      "outputs": [
        {
          "output_type": "stream",
          "name": "stdout",
          "text": [
            "Solving environment: - \b\b\\ \b\b| \b\b/ \b\b- \b\b\\ \b\b| \b\b/ \b\b- \b\b\\ \b\b| \b\b/ \b\b- \b\b\\ \b\b| \b\b/ \b\b- \b\b\\ \b\b| \b\b/ \b\b- \b\b\\ \b\b| \b\b/ \b\b- \b\b\\ \b\b| \b\b/ \b\b- \b\b\\ \b\b| \b\b/ \b\b- \b\b\\ \b\b| \b\b/ \b\b- \b\b\\ \b\b| \b\b/ \b\b- \b\b\\ \b\b| \b\b/ \b\b- \b\b\\ \b\b| \b\b/ \b\b- \b\b\\ \b\b| \b\b/ \b\b- \b\b\\ \b\b| \b\b/ \b\b- \b\b\\ \b\b| \b\b/ \b\b- \b\b\\ \b\b| \b\b/ \b\b- \b\b\\ \b\b| \b\b/ \b\b- \b\b\\ \b\b| \b\b/ \b\b- \b\b\\ \b\b| \b\b/ \b\b- \b\b\\ \b\b| \b\b/ \b\b- \b\b\\ \b\b| \b\b/ \b\b- \b\b\\ \b\b| \b\b/ \b\b- \b\b\\ \b\b| \b\b/ \b\b- \b\b\\ \b\b| \b\b/ \b\b- \b\b\\ \b\b| \b\b/ \b\b- \b\b\\ \b\b| \b\b/ \b\b- \b\b\\ \b\b| \b\b/ \b\b- \b\b\\ \b\b| \b\b/ \b\b- \b\b\\ \b\b| \b\b/ \b\b- \b\b\\ \b\b| \b\b/ \b\b- \b\b\\ \b\b| \b\b/ \b\b- \b\b\\ \b\b| \b\bdone\n",
            "\n",
            "\n",
            "==> WARNING: A newer version of conda exists. <==\n",
            "  current version: 4.4.10\n",
            "  latest version: 4.12.0\n",
            "\n",
            "Please update conda by running\n",
            "\n",
            "    $ conda update -n base conda\n",
            "\n",
            "\n",
            "\n",
            "## Package Plan ##\n",
            "\n",
            "  environment location: /usr/local/envs/drqa\n",
            "\n",
            "  added / updated specs: \n",
            "    - python=3.6.4\n",
            "\n",
            "\n",
            "The following packages will be downloaded:\n",
            "\n",
            "    package                    |            build\n",
            "    ---------------------------|-----------------\n",
            "    readline-7.0               |       h7b6447c_5         392 KB\n",
            "    libffi-3.2.1               |    hf484d3e_1007          52 KB\n",
            "    pip-21.2.2                 |   py36h06a4308_0         2.1 MB\n",
            "    wheel-0.37.1               |     pyhd3eb1b0_0          31 KB\n",
            "    libedit-3.1.20210910       |       h7f8727e_0         191 KB\n",
            "    _libgcc_mutex-0.1          |             main           3 KB\n",
            "    ca-certificates-2022.2.1   |       h06a4308_0         130 KB\n",
            "    xz-5.2.5                   |       h7b6447c_0         438 KB\n",
            "    zlib-1.2.11                |       h7f8727e_4         125 KB\n",
            "    tk-8.6.11                  |       h1ccaba5_0         3.2 MB\n",
            "    certifi-2021.5.30          |   py36h06a4308_0         141 KB\n",
            "    libgcc-ng-9.1.0            |       hdf63c60_0         8.1 MB\n",
            "    ncurses-6.3                |       h7f8727e_2         1.0 MB\n",
            "    sqlite-3.33.0              |       h62c20be_0         2.0 MB\n",
            "    libstdcxx-ng-9.1.0         |       hdf63c60_0         4.0 MB\n",
            "    setuptools-58.0.4          |   py36h06a4308_0         979 KB\n",
            "    python-3.6.4               |       hc3d631a_3        29.1 MB\n",
            "    openssl-1.0.2u             |       h7b6447c_0         3.1 MB\n",
            "    ------------------------------------------------------------\n",
            "                                           Total:        55.2 MB\n",
            "\n",
            "The following NEW packages will be INSTALLED:\n",
            "\n",
            "    _libgcc_mutex:   0.1-main                \n",
            "    ca-certificates: 2022.2.1-h06a4308_0     \n",
            "    certifi:         2021.5.30-py36h06a4308_0\n",
            "    libedit:         3.1.20210910-h7f8727e_0 \n",
            "    libffi:          3.2.1-hf484d3e_1007     \n",
            "    libgcc-ng:       9.1.0-hdf63c60_0        \n",
            "    libstdcxx-ng:    9.1.0-hdf63c60_0        \n",
            "    ncurses:         6.3-h7f8727e_2          \n",
            "    openssl:         1.0.2u-h7b6447c_0       \n",
            "    pip:             21.2.2-py36h06a4308_0   \n",
            "    python:          3.6.4-hc3d631a_3        \n",
            "    readline:        7.0-h7b6447c_5          \n",
            "    setuptools:      58.0.4-py36h06a4308_0   \n",
            "    sqlite:          3.33.0-h62c20be_0       \n",
            "    tk:              8.6.11-h1ccaba5_0       \n",
            "    wheel:           0.37.1-pyhd3eb1b0_0     \n",
            "    xz:              5.2.5-h7b6447c_0        \n",
            "    zlib:            1.2.11-h7f8727e_4       \n",
            "\n",
            "Proceed ([y]/n)? y\n",
            "\n",
            "\n",
            "Downloading and Extracting Packages\n",
            "readline 7.0: 100% 1.0/1 [00:00<00:00,  2.55it/s] \n",
            "libffi 3.2.1: 100% 1.0/1 [00:00<00:00, 13.99it/s]\n",
            "pip 21.2.2: 100% 1.0/1 [00:01<00:00,  1.12s/it]              \n",
            "wheel 0.37.1: 100% 1.0/1 [00:00<00:00, 14.67it/s]\n",
            "libedit 3.1.20210910: 100% 1.0/1 [00:00<00:00,  7.88it/s]               \n",
            "_libgcc_mutex 0.1: 100% 1.0/1 [00:00<00:00, 16.06it/s]\n",
            "ca-certificates 2022.2.1: 100% 1.0/1 [00:00<00:00, 10.83it/s]\n",
            "xz 5.2.5: 100% 1.0/1 [00:00<00:00,  3.93it/s]               \n",
            "zlib 1.2.11: 100% 1.0/1 [00:00<00:00,  7.22it/s]               \n",
            "tk 8.6.11: 100% 1.0/1 [00:01<00:00,  1.36s/it]               \n",
            "certifi 2021.5.30: 100% 1.0/1 [00:00<00:00, 10.60it/s]\n",
            "libgcc-ng 9.1.0: 100% 1.0/1 [00:02<00:00,  2.43s/it]              \n",
            "ncurses 6.3: 100% 1.0/1 [00:01<00:00,  1.22s/it]               \n",
            "sqlite 3.33.0: 100% 1.0/1 [00:00<00:00,  1.41it/s] \n",
            "libstdcxx-ng 9.1.0: 100% 1.0/1 [00:01<00:00,  1.32s/it]               \n",
            "setuptools 58.0.4: 100% 1.0/1 [00:00<00:00,  1.85it/s]               \n",
            "python 3.6.4: 100% 1.0/1 [00:08<00:00,  8.21s/it]               \n",
            "openssl 1.0.2u: 100% 1.0/1 [00:01<00:00,  1.07s/it]               \n",
            "Preparing transaction: - \b\b\\ \b\b| \b\bdone\n",
            "Verifying transaction: - \b\b\\ \b\b| \b\b/ \b\b- \b\b\\ \b\b| \b\b/ \b\b- \b\b\\ \b\b| \b\b/ \b\b- \b\b\\ \b\b| \b\b/ \b\b- \b\b\\ \b\b| \b\b/ \b\b- \b\b\\ \b\b| \b\bdone\n",
            "Executing transaction: - \b\b\\ \b\b| \b\b/ \b\b- \b\b\\ \b\b| \b\b/ \b\b- \b\b\\ \b\b| \b\b/ \b\b- \b\b\\ \b\bdone\n",
            "#\n",
            "# To activate this environment, use:\n",
            "# > source activate drqa\n",
            "#\n",
            "# To deactivate an active environment, use:\n",
            "# > source deactivate\n",
            "#\n",
            "\n"
          ]
        }
      ],
      "source": [
        "!conda create --name drqa python=3.6.4\n"
      ]
    },
    {
      "cell_type": "code",
      "execution_count": 6,
      "metadata": {
        "id": "wXjCVvZQwy8I"
      },
      "outputs": [],
      "source": [
        "!source activate drqa"
      ]
    },
    {
      "cell_type": "code",
      "execution_count": 13,
      "metadata": {
        "id": "-aBe35JzxGEO",
        "colab": {
          "base_uri": "https://localhost:8080/"
        },
        "outputId": "723c5b89-1184-4a72-9fd4-70ef3bb15a71"
      },
      "outputs": [
        {
          "output_type": "stream",
          "name": "stdout",
          "text": [
            "Solving environment: - \b\b\\ \b\b| \b\b/ \b\b- \b\b\\ \b\b| \b\b/ \b\b- \b\b\\ \b\b| \b\b/ \b\b- \b\b\\ \b\b| \b\b/ \b\b- \b\b\\ \b\b| \b\b/ \b\b- \b\b\\ \b\b| \b\b/ \b\b- \b\b\\ \b\b| \b\b/ \b\b- \b\b\\ \b\b| \b\b/ \b\b- \b\b\\ \b\b| \b\b/ \b\b- \b\b\\ \b\b| \b\b/ \b\b- \b\b\\ \b\b| \b\b/ \b\b- \b\b\\ \b\b| \b\b/ \b\b- \b\b\\ \b\b| \b\b/ \b\b- \b\b\\ \b\b| \b\b/ \b\b- \b\b\\ \b\b| \b\b/ \b\b- \b\b\\ \b\b| \b\b/ \b\b- \b\b\\ \b\b| \b\b/ \b\b- \b\b\\ \b\b| \b\b/ \b\b- \b\b\\ \b\b| \b\b/ \b\b- \b\b\\ \b\b| \b\b/ \b\b- \b\b\\ \b\b| \b\b/ \b\b- \b\b\\ \b\b| \b\b/ \b\b- \b\b\\ \b\b| \b\b/ \b\b- \b\b\\ \b\b| \b\b/ \b\b- \b\b\\ \b\b| \b\b/ \b\b- \b\b\\ \b\b| \b\b/ \b\b- \b\b\\ \b\b| \b\b/ \b\b- \b\b\\ \b\b| \b\b/ \b\b- \b\b\\ \b\b| \b\b/ \b\b- \b\b\\ \b\b| \b\b/ \b\b- \b\b\\ \b\b| \b\b/ \b\b- \b\b\\ \b\b| \b\b/ \b\b- \b\b\\ \b\b| \b\b/ \b\b- \b\b\\ \b\b| \b\b/ \b\b- \b\b\\ \b\b| \b\b/ \b\b- \b\b\\ \b\b| \b\b/ \b\b- \b\b\\ \b\b| \b\b/ \b\b- \b\b\\ \b\b| \b\b/ \b\b- \b\b\\ \b\b| \b\b/ \b\b- \b\b\\ \b\b| \b\b/ \b\b- \b\b\\ \b\b| \b\b/ \b\b- \b\b\\ \b\b| \b\b/ \b\b- \b\b\\ \b\b| \b\b/ \b\b- \b\b\\ \b\b| \b\b/ \b\b- \b\b\\ \b\b| \b\b/ \b\b- \b\b\\ \b\b| \b\b/ \b\b- \b\b\\ \b\b| \b\b/ \b\b- \b\b\\ \b\b| \b\b/ \b\b- \b\b\\ \b\b| \b\b/ \b\b- \b\b\\ \b\b| \b\b/ \b\b- \b\b\\ \b\b| \b\b/ \b\b- \b\b\\ \b\b| \b\b/ \b\b- \b\b\\ \b\b| \b\b/ \b\b- \b\b\\ \b\b| \b\b/ \b\b- \b\b\\ \b\b| \b\b/ \b\b- \b\b\\ \b\b| \b\b/ \b\b- \b\b\\ \b\b| \b\b/ \b\b- \b\b\\ \b\b| \b\b/ \b\b- \b\b\\ \b\b| \b\b/ \b\b- \b\b\\ \b\b| \b\b/ \b\b- \b\b\\ \b\b| \b\b/ \b\b- \b\b\\ \b\b| \b\b/ \b\b- \b\b\\ \b\b| \b\b/ \b\b- \b\b\\ \b\b| \b\b/ \b\b- \b\b\\ \b\b| \b\b/ \b\b- \b\b\\ \b\b| \b\b/ \b\b- \b\b\\ \b\b| \b\b/ \b\b- \b\b\\ \b\b| \b\b/ \b\b- \b\b\\ \b\b| \b\b/ \b\b- \b\b\\ \b\b| \b\b/ \b\b- \b\b\\ \b\b| \b\b/ \b\b- \b\b\\ \b\b| \b\b/ \b\b- \b\b\\ \b\b| \b\b/ \b\b- \b\b\\ \b\b| \b\b/ \b\b- \b\b\\ \b\b| \b\b/ \b\b- \b\b\\ \b\b| \b\b/ \b\b- \b\b\\ \b\b| \b\b/ \b\b- \b\b\\ \b\b| \b\b/ \b\b- \b\b\\ \b\b| \b\b/ \b\b- \b\b\\ \b\b| \b\b/ \b\b- \b\b\\ \b\b| \b\b/ \b\b- \b\b\\ \b\b| \b\b/ \b\b- \b\b\\ \b\b| \b\b/ \b\b- \b\b\\ \b\b| \b\b/ \b\b- \b\b\\ \b\b| \b\b/ \b\b- \b\b\\ \b\b| \b\b/ \b\b- \b\b\\ \b\b| \b\b/ \b\b- \b\b\\ \b\b| \b\b/ \b\b- \b\b\\ \b\b| \b\b/ \b\b- \b\b\\ \b\b| \b\b/ \b\b- \b\b\\ \b\b| \b\b/ \b\b- \b\b\\ \b\b| \b\b/ \b\b- \b\b\\ \b\b| \b\b/ \b\b- \b\b\\ \b\b| \b\b/ \b\b- \b\b\\ \b\b| \b\b/ \b\b- \b\b\\ \b\b| \b\b/ \b\b- \b\b\\ \b\b| \b\b/ \b\b- \b\b\\ \b\b| \b\b/ \b\b- \b\b\\ \b\b| \b\b/ \b\b- \b\b\\ \b\b| \b\b/ \b\b- \b\b\\ \b\b| \b\b/ \b\b- \b\b\\ \b\b| \b\bdone\n",
            "\n",
            "\n",
            "==> WARNING: A newer version of conda exists. <==\n",
            "  current version: 4.4.10\n",
            "  latest version: 4.12.0\n",
            "\n",
            "Please update conda by running\n",
            "\n",
            "    $ conda update -n base conda\n",
            "\n",
            "\n",
            "\n",
            "## Package Plan ##\n",
            "\n",
            "  environment location: /usr/local\n",
            "\n",
            "  added / updated specs: \n",
            "    - cuda90\n",
            "    - pytorch=0.4.1\n",
            "\n",
            "\n",
            "The following packages will be downloaded:\n",
            "\n",
            "    package                    |            build\n",
            "    ---------------------------|-----------------\n",
            "    python-3.6.6               |       hc3d631a_0        29.4 MB\n",
            "    cuda90-1.0                 |       h6433d27_0           3 KB  pytorch\n",
            "    ------------------------------------------------------------\n",
            "                                           Total:        29.4 MB\n",
            "\n",
            "The following NEW packages will be INSTALLED:\n",
            "\n",
            "    _libgcc_mutex:   0.1-main                                     \n",
            "    blas:            1.0-mkl                                      \n",
            "    cuda90:          1.0-h6433d27_0                        pytorch\n",
            "    ninja:           1.8.2-py36h6bb024c_1                         \n",
            "    pytorch:         0.4.1-py36_py35_py27__9.0.176_7.1.2_2 pytorch\n",
            "\n",
            "The following packages will be UPDATED:\n",
            "\n",
            "    ca-certificates: 2017.08.26-h1d4fec5_0                         --> 2022.2.1-h06a4308_0     \n",
            "    certifi:         2018.1.18-py36_0                              --> 2021.5.30-py36h06a4308_0\n",
            "    cffi:            1.11.4-py36h9745a5d_0                         --> 1.14.0-py36h2e261b9_0   \n",
            "    libedit:         3.1-heed3624_0                                --> 3.1.20210910-h7f8727e_0 \n",
            "    libgcc-ng:       7.2.0-h7cc24e2_2                              --> 9.1.0-hdf63c60_0        \n",
            "    ncurses:         6.0-h9df7e31_2                                --> 6.3-h7f8727e_2          \n",
            "    numpy:           1.14.0-py36h3dfced4_1                         --> 1.14.2-py36hdbf6ddf_0   \n",
            "    openssl:         1.0.2n-hb7f436b_0                             --> 1.0.2u-h7b6447c_0       \n",
            "    pip:             9.0.1-py36h6c6f9ce_4                          --> 21.2.2-py36h06a4308_0   \n",
            "    pycparser:       2.18-py36hf9f622e_1                           --> 2.21-pyhd3eb1b0_0       \n",
            "    python:          3.6.4-hc3d631a_1                              --> 3.6.6-hc3d631a_0        \n",
            "    readline:        7.0-ha6073c6_4                                --> 7.0-h7b6447c_5          \n",
            "    setuptools:      38.4.0-py36_0                                 --> 58.0.4-py36h06a4308_0   \n",
            "    sqlite:          3.22.0-h1bed415_0                             --> 3.33.0-h62c20be_0       \n",
            "    tk:              8.6.7-hc745277_3                              --> 8.6.11-h1ccaba5_0       \n",
            "    wheel:           0.30.0-py36hfd4bba0_1                         --> 0.37.1-pyhd3eb1b0_0     \n",
            "    xz:              5.2.3-h55aa19d_2                              --> 5.2.5-h7b6447c_0        \n",
            "    zlib:            1.2.11-ha838bed_2                             --> 1.2.11-h7f8727e_4       \n",
            "\n",
            "Proceed ([y]/n)? y\n",
            "\n",
            "\n",
            "Downloading and Extracting Packages\n",
            "python 3.6.6:  84% 0.84349173553719/1 [00:04<00:03, 21.77s/it]  y\n",
            "python 3.6.6:  96% 0.9597107438016529/1 [00:05<00:00, 16.85s/it]y\n",
            "python 3.6.6: 100% 1.0/1 [00:08<00:00,  8.46s/it]               \n",
            "cuda90 1.0: 100% 1.0/1 [00:00<00:00,  2.84it/s] \n",
            "Preparing transaction: - \b\b\\ \b\b| \b\bdone\n",
            "Verifying transaction: - y\n",
            "\b\b\\ \b\b| \b\b/ \b\b- \b\b\\ \b\b| \b\b/ y\n",
            "\b\b- \b\b\\ \b\b| \b\b/ \b\b- \b\b\\ \b\b| \b\b/ y\n",
            "\b\b- \b\b\\ \b\b| \b\b/ \b\b- \b\b\\ \b\b| \b\b/ \b\b- \b\b\\ \b\b| \b\b/ \b\b- \b\b\\ \b\b| \b\b/ \b\b- \b\b\\ \b\b| \b\b/ \b\b- \b\b\\ \b\b| \b\b/ \b\b- \b\b\\ \b\b| \b\b/ \b\b- \b\b\\ \b\b| \b\b/ \b\b- \b\b\\ \b\b| \b\b/ \b\b- \b\b\\ \b\b| \b\b/ \b\b- \b\b\\ \b\b| \b\b/ \b\bdone\n",
            "Executing transaction: \\ \b\b| \b\b/ \b\b- \b\b\\ \b\b| \b\b/ \b\b- \b\b\\ \b\b| \b\b/ \b\b- \b\b\\ \b\b| \b\b/ \b\b- \b\b\\ \b\b| \b\b/ \b\b- \b\b\\ \b\b| \b\b/ \b\b- \b\b\\ \b\b| \b\b/ \b\b- \b\b\\ \b\b| y\n",
            "\b\b/ \b\bdone\n"
          ]
        }
      ],
      "source": [
        "#!pip install unzip\n",
        "#!pip install wget \n",
        "#!pip install https://download.pytorch.org/whl/cu75/torch-0.3.0.post4-cp36-cp36m-linux_x86_64.whl\n",
        "#!conda install pytorch=0.4.1 -c pytorch\n",
        "!conda install pytorch=0.4.1 cuda90 -c pytorch"
      ]
    },
    {
      "cell_type": "code",
      "execution_count": 14,
      "metadata": {
        "id": "T_Ee00TcyNqo",
        "colab": {
          "base_uri": "https://localhost:8080/",
          "height": 1000
        },
        "outputId": "b7a8d902-e5e9-4836-a2fb-ea309b050835"
      },
      "outputs": [
        {
          "output_type": "stream",
          "name": "stdout",
          "text": [
            "Requirement already satisfied: numpy in /usr/local/lib/python3.6/site-packages (from -r requirements.txt (line 1)) (1.14.2)\n",
            "Requirement already satisfied: msgpack-python in /usr/local/lib/python3.6/site-packages (from -r requirements.txt (line 2)) (0.5.1)\n",
            "Collecting spacy<=1.9\n",
            "  Using cached spacy-1.9.0.tar.gz (3.4 MB)\n",
            "Collecting murmurhash<0.27,>=0.26\n",
            "  Using cached murmurhash-0.26.4.tar.gz (23 kB)\n",
            "Collecting cymem<1.32,>=1.30\n",
            "  Downloading cymem-1.31.2-cp36-cp36m-manylinux1_x86_64.whl (21 kB)\n",
            "Collecting preshed<2.0.0,>=1.0.0\n",
            "  Downloading preshed-1.0.1-cp36-cp36m-manylinux1_x86_64.whl (80 kB)\n",
            "\u001b[K     |████████████████████████████████| 80 kB 3.6 MB/s \n",
            "\u001b[?25hCollecting thinc<6.6.0,>=6.5.0\n",
            "  Downloading thinc-6.5.2.tar.gz (926 kB)\n",
            "\u001b[K     |████████████████████████████████| 926 kB 11.6 MB/s \n",
            "\u001b[?25hCollecting plac<1.0.0,>=0.9.6\n",
            "  Downloading plac-0.9.6-py2.py3-none-any.whl (20 kB)\n",
            "Collecting pip<10.0.0,>=9.0.0\n",
            "  Downloading pip-9.0.3-py2.py3-none-any.whl (1.4 MB)\n",
            "\u001b[K     |████████████████████████████████| 1.4 MB 37.8 MB/s \n",
            "\u001b[?25hRequirement already satisfied: six in /usr/local/lib/python3.6/site-packages (from spacy<=1.9->-r requirements.txt (line 3)) (1.11.0)\n",
            "Collecting pathlib\n",
            "  Downloading pathlib-1.0.1.tar.gz (49 kB)\n",
            "\u001b[K     |████████████████████████████████| 49 kB 5.0 MB/s \n",
            "\u001b[?25hCollecting ujson>=1.35\n",
            "  Downloading ujson-4.3.0-cp36-cp36m-manylinux_2_17_x86_64.manylinux2014_x86_64.whl (216 kB)\n",
            "\u001b[K     |████████████████████████████████| 216 kB 46.7 MB/s \n",
            "\u001b[?25hCollecting dill<0.3,>=0.2\n",
            "  Downloading dill-0.2.9.tar.gz (150 kB)\n",
            "\u001b[K     |████████████████████████████████| 150 kB 49.1 MB/s \n",
            "\u001b[?25hRequirement already satisfied: requests<3.0.0,>=2.13.0 in /usr/local/lib/python3.6/site-packages (from spacy<=1.9->-r requirements.txt (line 3)) (2.18.4)\n",
            "Collecting regex<2017.12.1,>=2017.4.1\n",
            "  Downloading regex-2017.11.09.tar.gz (608 kB)\n",
            "\u001b[K     |████████████████████████████████| 608 kB 47.7 MB/s \n",
            "\u001b[?25hCollecting ftfy<5.0.0,>=4.4.2\n",
            "  Downloading ftfy-4.4.3.tar.gz (50 kB)\n",
            "\u001b[K     |████████████████████████████████| 50 kB 5.6 MB/s \n",
            "\u001b[?25hRequirement already satisfied: html5lib in /usr/local/lib/python3.6/site-packages (from ftfy<5.0.0,>=4.4.2->spacy<=1.9->-r requirements.txt (line 3)) (1.0.1)\n",
            "Requirement already satisfied: wcwidth in /usr/local/lib/python3.6/site-packages (from ftfy<5.0.0,>=4.4.2->spacy<=1.9->-r requirements.txt (line 3)) (0.1.7)\n",
            "Requirement already satisfied: chardet<3.1.0,>=3.0.2 in /usr/local/lib/python3.6/site-packages (from requests<3.0.0,>=2.13.0->spacy<=1.9->-r requirements.txt (line 3)) (3.0.4)\n",
            "Requirement already satisfied: idna<2.7,>=2.5 in /usr/local/lib/python3.6/site-packages (from requests<3.0.0,>=2.13.0->spacy<=1.9->-r requirements.txt (line 3)) (2.6)\n",
            "Requirement already satisfied: urllib3<1.23,>=1.21.1 in /usr/local/lib/python3.6/site-packages (from requests<3.0.0,>=2.13.0->spacy<=1.9->-r requirements.txt (line 3)) (1.22)\n",
            "Requirement already satisfied: certifi>=2017.4.17 in /usr/local/lib/python3.6/site-packages (from requests<3.0.0,>=2.13.0->spacy<=1.9->-r requirements.txt (line 3)) (2021.5.30)\n",
            "Requirement already satisfied: wrapt in /usr/local/lib/python3.6/site-packages (from thinc<6.6.0,>=6.5.0->spacy<=1.9->-r requirements.txt (line 3)) (1.10.11)\n",
            "Collecting tqdm<5.0.0,>=4.10.0\n",
            "  Downloading tqdm-4.63.0-py2.py3-none-any.whl (76 kB)\n",
            "\u001b[K     |████████████████████████████████| 76 kB 4.8 MB/s \n",
            "\u001b[?25hCollecting cytoolz<0.9,>=0.8\n",
            "  Downloading cytoolz-0.8.2.tar.gz (386 kB)\n",
            "\u001b[K     |████████████████████████████████| 386 kB 43.4 MB/s \n",
            "\u001b[?25hCollecting termcolor\n",
            "  Downloading termcolor-1.1.0.tar.gz (3.9 kB)\n",
            "Requirement already satisfied: toolz>=0.8.0 in /usr/local/lib/python3.6/site-packages (from cytoolz<0.9,>=0.8->thinc<6.6.0,>=6.5.0->spacy<=1.9->-r requirements.txt (line 3)) (0.9.0)\n",
            "Collecting importlib-resources\n",
            "  Downloading importlib_resources-5.4.0-py3-none-any.whl (28 kB)\n",
            "Requirement already satisfied: webencodings in /usr/local/lib/python3.6/site-packages (from html5lib->ftfy<5.0.0,>=4.4.2->spacy<=1.9->-r requirements.txt (line 3)) (0.5.1)\n",
            "Collecting zipp>=3.1.0\n",
            "  Downloading zipp-3.6.0-py3-none-any.whl (5.3 kB)\n",
            "Building wheels for collected packages: spacy, dill, ftfy, murmurhash, regex, thinc, cytoolz, pathlib, termcolor\n",
            "  Building wheel for spacy (setup.py) ... \u001b[?25l\u001b[?25hdone\n",
            "  Created wheel for spacy: filename=spacy-1.9.0-cp36-cp36m-linux_x86_64.whl size=7778210 sha256=1b1be76bb5dfb7e78e9f0c47396c58e2af1282473d33aa876c360f74ca153190\n",
            "  Stored in directory: /root/.cache/pip/wheels/63/a9/af/18b490aadb3ef9a382d403eb955b5c0b51e27074fee2881118\n",
            "  Building wheel for dill (setup.py) ... \u001b[?25l\u001b[?25hdone\n",
            "  Created wheel for dill: filename=dill-0.2.9-py3-none-any.whl size=77420 sha256=2a705a65074efb1647c86636653a794cee3bf7b5b70fb27b2908b5f5c610daf4\n",
            "  Stored in directory: /root/.cache/pip/wheels/4e/30/4a/4d1b230f4b976bab277383fefbde5ce464d25ef354321548d1\n",
            "  Building wheel for ftfy (setup.py) ... \u001b[?25l\u001b[?25hdone\n",
            "  Created wheel for ftfy: filename=ftfy-4.4.3-py3-none-any.whl size=41082 sha256=2703e77ad5785cee5fc3f0a81c11045942c736327e6aca4bcb27f0757ce81eec\n",
            "  Stored in directory: /root/.cache/pip/wheels/f1/47/dc/48b860b321b7dda1073ced6eaea164a6b94f25936b10eba32f\n",
            "  Building wheel for murmurhash (setup.py) ... \u001b[?25l\u001b[?25hdone\n",
            "  Created wheel for murmurhash: filename=murmurhash-0.26.4-cp36-cp36m-linux_x86_64.whl size=41285 sha256=1ce33520125484a4fde2e5086fe99e7d49444decb47ad7e725ca72f896568fda\n",
            "  Stored in directory: /root/.cache/pip/wheels/cd/55/5a/d29b32bf5b85fc6d073122cf42b87a7b66a18c527682e0fb20\n",
            "  Building wheel for regex (setup.py) ... \u001b[?25l\u001b[?25hdone\n",
            "  Created wheel for regex: filename=regex-2017.11.9-cp36-cp36m-linux_x86_64.whl size=541260 sha256=826865d79670899823043e177676224b3e02c0f039de245762264066b241b671\n",
            "  Stored in directory: /root/.cache/pip/wheels/7b/55/73/279b030d30b4dc9553ece2113f9e498be87a4559c25fa51682\n",
            "  Building wheel for thinc (setup.py) ... \u001b[?25l\u001b[?25hdone\n",
            "  Created wheel for thinc: filename=thinc-6.5.2-cp36-cp36m-linux_x86_64.whl size=2313454 sha256=0bb6b13d80d54a6cf37693c8a2c967502a63aef789cdbf9fcf8836700c6cc236\n",
            "  Stored in directory: /root/.cache/pip/wheels/f7/b9/55/9e9be5387e253288753ea06bb2bc15d6aa1028883156fe2a18\n",
            "  Building wheel for cytoolz (setup.py) ... \u001b[?25l\u001b[?25hdone\n",
            "  Created wheel for cytoolz: filename=cytoolz-0.8.2-cp36-cp36m-linux_x86_64.whl size=1105029 sha256=7760398204bcc3c833d4278d87fe9a452aff8cebb44959a5cf4b4ed40d01a372\n",
            "  Stored in directory: /root/.cache/pip/wheels/4b/7c/10/f1f9779b3b425e7c5b48216a004a2f487d16dc6c08327a42b8\n",
            "  Building wheel for pathlib (setup.py) ... \u001b[?25l\u001b[?25hdone\n",
            "  Created wheel for pathlib: filename=pathlib-1.0.1-py3-none-any.whl size=14363 sha256=79675261af91c921a35fd4386aba98628e900443e92df9bcae210f0d0dfdddea\n",
            "  Stored in directory: /root/.cache/pip/wheels/e1/32/91/afe2cabe6f77819de11759f2a07d538cd521ef3a9dd81ba0b4\n",
            "  Building wheel for termcolor (setup.py) ... \u001b[?25l\u001b[?25hdone\n",
            "  Created wheel for termcolor: filename=termcolor-1.1.0-py3-none-any.whl size=4848 sha256=450740a4d5eec7532a6f349ae1c1cb1e431dfd37fb8f898dc92cfa07ad58f8ad\n",
            "  Stored in directory: /root/.cache/pip/wheels/93/2a/eb/e58dbcbc963549ee4f065ff80a59f274cc7210b6eab962acdc\n",
            "Successfully built spacy dill ftfy murmurhash regex thinc cytoolz pathlib termcolor\n",
            "Installing collected packages: zipp, importlib-resources, cymem, tqdm, termcolor, preshed, plac, pathlib, murmurhash, dill, cytoolz, ujson, thinc, regex, pip, ftfy, spacy\n",
            "  Attempting uninstall: cytoolz\n",
            "    Found existing installation: cytoolz 0.9.0\n",
            "    Uninstalling cytoolz-0.9.0:\n",
            "      Successfully uninstalled cytoolz-0.9.0\n",
            "  Attempting uninstall: pip\n",
            "    Found existing installation: pip 21.2.2\n",
            "    Uninstalling pip-21.2.2:\n",
            "      Successfully uninstalled pip-21.2.2\n",
            "Successfully installed cymem-1.31.2 cytoolz-0.8.2 dill-0.2.9 ftfy-4.4.3 importlib-resources-5.4.0 murmurhash-0.26.4 pathlib-1.0.1 pip-9.0.3 plac-0.9.6 preshed-1.0.1 regex-2017.11.9 spacy-1.9.0 termcolor-1.1.0 thinc-6.5.2 tqdm-4.63.0 ujson-4.3.0 zipp-3.6.0\n",
            "\u001b[33mWARNING: Running pip as the 'root' user can result in broken permissions and conflicting behaviour with the system package manager. It is recommended to use a virtual environment instead: https://pip.pypa.io/warnings/venv\u001b[0m\n"
          ]
        },
        {
          "output_type": "display_data",
          "data": {
            "application/vnd.colab-display-data+json": {
              "pip_warning": {
                "packages": [
                  "pathlib"
                ]
              }
            }
          },
          "metadata": {}
        }
      ],
      "source": [
        "!pip install -r requirements.txt"
      ]
    },
    {
      "cell_type": "code",
      "execution_count": 15,
      "metadata": {
        "id": "P7bJ_3ZOy815",
        "colab": {
          "base_uri": "https://localhost:8080/"
        },
        "outputId": "ebd7c230-33e3-4542-c7b1-fcda3623cc9f"
      },
      "outputs": [
        {
          "output_type": "stream",
          "name": "stdout",
          "text": [
            "SQuAD/train-v1.1.json already exists, skipping download.\n",
            "SQuAD/dev-v1.1.json already exists, skipping download.\n",
            "glove/glove.840B.300d.zip already exists, skipping download.\n",
            "\n",
            "    Downloading en_core_web_sm-1.2.0/en_core_web_sm-1.2.0.tar.gz\n",
            "\n",
            "Collecting https://github.com/explosion/spacy-models/releases/download/en_core_web_sm-1.2.0/en_core_web_sm-1.2.0.tar.gz\n",
            "  Downloading https://github.com/explosion/spacy-models/releases/download/en_core_web_sm-1.2.0/en_core_web_sm-1.2.0.tar.gz (52.2MB)\n",
            "\u001b[K    100% |████████████████████████████████| 52.2MB 38.4MB/s \n",
            "\u001b[?25hRequirement already satisfied: spacy<2.0.0,>=1.7.0 in /usr/local/lib/python3.6/site-packages (from en-core-web-sm==1.2.0)\n",
            "Requirement already satisfied: cymem<1.32,>=1.30 in /usr/local/lib/python3.6/site-packages (from spacy<2.0.0,>=1.7.0->en-core-web-sm==1.2.0)\n",
            "Requirement already satisfied: ftfy<5.0.0,>=4.4.2 in /usr/local/lib/python3.6/site-packages (from spacy<2.0.0,>=1.7.0->en-core-web-sm==1.2.0)\n",
            "Requirement already satisfied: six in /usr/local/lib/python3.6/site-packages (from spacy<2.0.0,>=1.7.0->en-core-web-sm==1.2.0)\n",
            "Requirement already satisfied: numpy>=1.7 in /usr/local/lib/python3.6/site-packages (from spacy<2.0.0,>=1.7.0->en-core-web-sm==1.2.0)\n",
            "Requirement already satisfied: murmurhash<0.27,>=0.26 in /usr/local/lib/python3.6/site-packages (from spacy<2.0.0,>=1.7.0->en-core-web-sm==1.2.0)\n",
            "Requirement already satisfied: pip<10.0.0,>=9.0.0 in /usr/local/lib/python3.6/site-packages (from spacy<2.0.0,>=1.7.0->en-core-web-sm==1.2.0)\n",
            "Requirement already satisfied: ujson>=1.35 in /usr/local/lib/python3.6/site-packages (from spacy<2.0.0,>=1.7.0->en-core-web-sm==1.2.0)\n",
            "Requirement already satisfied: dill<0.3,>=0.2 in /usr/local/lib/python3.6/site-packages (from spacy<2.0.0,>=1.7.0->en-core-web-sm==1.2.0)\n",
            "Requirement already satisfied: pathlib in /usr/local/lib/python3.6/site-packages (from spacy<2.0.0,>=1.7.0->en-core-web-sm==1.2.0)\n",
            "Requirement already satisfied: requests<3.0.0,>=2.13.0 in /usr/local/lib/python3.6/site-packages (from spacy<2.0.0,>=1.7.0->en-core-web-sm==1.2.0)\n",
            "Requirement already satisfied: thinc<6.6.0,>=6.5.0 in /usr/local/lib/python3.6/site-packages (from spacy<2.0.0,>=1.7.0->en-core-web-sm==1.2.0)\n",
            "Requirement already satisfied: regex<2017.12.1,>=2017.4.1 in /usr/local/lib/python3.6/site-packages (from spacy<2.0.0,>=1.7.0->en-core-web-sm==1.2.0)\n",
            "Requirement already satisfied: plac<1.0.0,>=0.9.6 in /usr/local/lib/python3.6/site-packages (from spacy<2.0.0,>=1.7.0->en-core-web-sm==1.2.0)\n",
            "Requirement already satisfied: preshed<2.0.0,>=1.0.0 in /usr/local/lib/python3.6/site-packages (from spacy<2.0.0,>=1.7.0->en-core-web-sm==1.2.0)\n",
            "Requirement already satisfied: html5lib in /usr/local/lib/python3.6/site-packages (from ftfy<5.0.0,>=4.4.2->spacy<2.0.0,>=1.7.0->en-core-web-sm==1.2.0)\n",
            "Requirement already satisfied: wcwidth in /usr/local/lib/python3.6/site-packages (from ftfy<5.0.0,>=4.4.2->spacy<2.0.0,>=1.7.0->en-core-web-sm==1.2.0)\n",
            "Requirement already satisfied: chardet<3.1.0,>=3.0.2 in /usr/local/lib/python3.6/site-packages (from requests<3.0.0,>=2.13.0->spacy<2.0.0,>=1.7.0->en-core-web-sm==1.2.0)\n",
            "Requirement already satisfied: idna<2.7,>=2.5 in /usr/local/lib/python3.6/site-packages (from requests<3.0.0,>=2.13.0->spacy<2.0.0,>=1.7.0->en-core-web-sm==1.2.0)\n",
            "Requirement already satisfied: urllib3<1.23,>=1.21.1 in /usr/local/lib/python3.6/site-packages (from requests<3.0.0,>=2.13.0->spacy<2.0.0,>=1.7.0->en-core-web-sm==1.2.0)\n",
            "Requirement already satisfied: certifi>=2017.4.17 in /usr/local/lib/python3.6/site-packages (from requests<3.0.0,>=2.13.0->spacy<2.0.0,>=1.7.0->en-core-web-sm==1.2.0)\n",
            "Requirement already satisfied: cytoolz<0.9,>=0.8 in /usr/local/lib/python3.6/site-packages (from thinc<6.6.0,>=6.5.0->spacy<2.0.0,>=1.7.0->en-core-web-sm==1.2.0)\n",
            "Requirement already satisfied: termcolor in /usr/local/lib/python3.6/site-packages (from thinc<6.6.0,>=6.5.0->spacy<2.0.0,>=1.7.0->en-core-web-sm==1.2.0)\n",
            "Requirement already satisfied: tqdm<5.0.0,>=4.10.0 in /usr/local/lib/python3.6/site-packages (from thinc<6.6.0,>=6.5.0->spacy<2.0.0,>=1.7.0->en-core-web-sm==1.2.0)\n",
            "Requirement already satisfied: wrapt in /usr/local/lib/python3.6/site-packages (from thinc<6.6.0,>=6.5.0->spacy<2.0.0,>=1.7.0->en-core-web-sm==1.2.0)\n",
            "Requirement already satisfied: webencodings in /usr/local/lib/python3.6/site-packages (from html5lib->ftfy<5.0.0,>=4.4.2->spacy<2.0.0,>=1.7.0->en-core-web-sm==1.2.0)\n",
            "Requirement already satisfied: toolz>=0.8.0 in /usr/local/lib/python3.6/site-packages (from cytoolz<0.9,>=0.8->thinc<6.6.0,>=6.5.0->spacy<2.0.0,>=1.7.0->en-core-web-sm==1.2.0)\n",
            "Requirement already satisfied: importlib-resources; python_version < \"3.7\" in /usr/local/lib/python3.6/site-packages (from tqdm<5.0.0,>=4.10.0->thinc<6.6.0,>=6.5.0->spacy<2.0.0,>=1.7.0->en-core-web-sm==1.2.0)\n",
            "Requirement already satisfied: zipp>=3.1.0; python_version < \"3.10\" in /usr/local/lib/python3.6/site-packages (from importlib-resources; python_version < \"3.7\"->tqdm<5.0.0,>=4.10.0->thinc<6.6.0,>=6.5.0->spacy<2.0.0,>=1.7.0->en-core-web-sm==1.2.0)\n",
            "Installing collected packages: en-core-web-sm\n",
            "  Running setup.py install for en-core-web-sm ... \u001b[?25ldone\n",
            "\u001b[?25hSuccessfully installed en-core-web-sm-1.2.0\n",
            "\n",
            "\u001b[93m    Linking successful\u001b[0m\n",
            "\n",
            "    /usr/local/lib/python3.6/site-packages/en_core_web_sm/en_core_web_sm-1.2.0\n",
            "    --> /usr/local/lib/python3.6/site-packages/spacy/data/en\n",
            "\n",
            "    You can now load the model via spacy.load('en').\n",
            "\n"
          ]
        }
      ],
      "source": [
        "!bash download.sh"
      ]
    },
    {
      "cell_type": "code",
      "execution_count": 16,
      "metadata": {
        "id": "3R664tbYzL7C",
        "colab": {
          "base_uri": "https://localhost:8080/"
        },
        "outputId": "f8a71cba-f877-4e58-d943-33d7995aa9d5"
      },
      "outputs": [
        {
          "output_type": "stream",
          "name": "stdout",
          "text": [
            "03/21/2022 05:14:25 {'trn_file': 'SQuAD/train-v1.1.json', 'dev_file': 'SQuAD/dev-v1.1.json', 'wv_file': 'glove/glove.840B.300d.txt', 'wv_dim': 300, 'wv_cased': True, 'sort_all': False, 'sample_size': 0, 'threads': 2, 'batch_size': 64}\n",
            "03/21/2022 05:14:25 start data preparing...\n",
            "03/21/2022 05:14:25 json data flattened.\n",
            "train: 100% 87599/87599 [04:14<00:00, 343.87it/s]\n",
            "dev  : 100% 10570/10570 [00:32<00:00, 323.14it/s]\n",
            "03/21/2022 05:19:14 drop 1063 inconsistent samples.\n",
            "03/21/2022 05:19:14 tokens generated\n",
            "03/21/2022 05:20:46 glove vocab loaded.\n",
            "03/21/2022 05:20:49 vocab coverage 91187/111630 | OOV occurrence 130464/14746855 (0.8847%)\n",
            "03/21/2022 05:20:53 Vocabulary size: 91187\n",
            "03/21/2022 05:20:53 Found 50 POS tags.\n",
            "03/21/2022 05:20:53 Found 19 entity tags: ['', 'ORG', 'DATE', 'PERSON', 'GPE', 'CARDINAL', 'NORP', 'LOC', 'WORK_OF_ART', 'PERCENT', 'EVENT', 'ORDINAL', 'MONEY', 'FAC', 'QUANTITY', 'LAW', 'TIME', 'LANGUAGE', 'PRODUCT']\n",
            "03/21/2022 05:21:03 converted to ids.\n",
            "03/21/2022 05:22:14 got embedding matrix.\n",
            "03/21/2022 05:22:33 saved to disk.\n"
          ]
        }
      ],
      "source": [
        "# prepare the data\n",
        "!python3 prepro.py\n"
      ]
    },
    {
      "cell_type": "code",
      "execution_count": 17,
      "metadata": {
        "id": "TRP4jJKl80US",
        "colab": {
          "base_uri": "https://localhost:8080/"
        },
        "outputId": "7d90263e-e21b-4a42-9ce8-ecfaf212fa52"
      },
      "outputs": [
        {
          "output_type": "stream",
          "name": "stdout",
          "text": [
            "03/21/2022 05:22:49 [Program starts. Loading data...]\n",
            "03/21/2022 05:23:19 {'log_per_updates': 3, 'data_file': 'SQuAD/data.msgpack', 'model_dir': '/content/drive/MyDrive/DrQA-master/models', 'save_last_only': False, 'save_dawn_logs': False, 'seed': 1013, 'cuda': True, 'epochs': 40, 'batch_size': 32, 'resume': 'best_model.pt', 'resume_options': False, 'reduce_lr': 0.0, 'optimizer': 'adamax', 'grad_clipping': 10, 'weight_decay': 0, 'learning_rate': 0.1, 'momentum': 0, 'tune_partial': 1000, 'fix_embeddings': False, 'rnn_padding': False, 'question_merge': 'self_attn', 'doc_layers': 3, 'question_layers': 3, 'hidden_size': 128, 'num_features': 4, 'pos': True, 'ner': True, 'use_qemb': True, 'concat_rnn_layers': True, 'dropout_emb': 0.4, 'dropout_rnn': 0.4, 'dropout_rnn_output': True, 'max_len': 15, 'rnn_type': 'lstm', 'pretrained_words': True, 'vocab_size': 91187, 'embedding_dim': 300, 'pos_size': 50, 'ner_size': 19}\n",
            "03/21/2022 05:23:19 [Data loaded.]\n",
            "03/21/2022 05:23:19 [loading previous model...]\n",
            "03/21/2022 05:24:18 [dev EM: 62.69631031220435 F1: 72.92485779119544]\n",
            "03/21/2022 05:24:18 Inconsistent: recorded EM: 63.973509933774835 F1: 74.08647595633424\n",
            "03/21/2022 05:24:18 Error loading model: current code is inconsistent with code used to train the previous model.\n"
          ]
        }
      ],
      "source": [
        "# train for 40 epochs with batchsize 32\n",
        "!python3 train.py -e 40 -bs 32"
      ]
    },
    {
      "cell_type": "code",
      "execution_count": 18,
      "metadata": {
        "id": "29CdFTuB1CBY",
        "colab": {
          "base_uri": "https://localhost:8080/"
        },
        "outputId": "36bee8a1-0e4e-48d5-81b4-8997dbf71014"
      },
      "outputs": [
        {
          "output_type": "stream",
          "name": "stdout",
          "text": [
            "Evidence: Super Bowl 50 was an American football game to determine the champion of the National Football League (NFL) for the 2015 season. The American Football Conference (AFC) champion Denver Broncos defeated the National Football Conference (NFC) champion Carolina Panthers 24-10 to earn their third Super Bowl title. The game was played on February 7, 2016, at Levi's Stadium in the San Francisco Bay Area at Santa Clara, California.\n",
            "Question: What is the AFC short for?\n",
            "Answer: American Football Conference\n",
            "Time: 0.0369s\n",
            "Evidence: Napoleon is famous for his institution of the Napoleonic Code, which granted freedom of religion, eliminated privileges based upon birth, and demanded that government jobs be given to those most qualified to hold them. His popularity soared and, in 1802, Napoleon was proclaimed France's first emperor\n",
            "Question: Why is Napoleon so famous?\n",
            "Answer: his institution of the Napoleonic Code\n",
            "Time: 0.0239s\n",
            "Evidence: Traceback (most recent call last):\n",
            "  File \"interact.py\", line 56, in <module>\n",
            "KeyboardInterrupt\n"
          ]
        }
      ],
      "source": [
        "!python interact.py"
      ]
    },
    {
      "cell_type": "code",
      "execution_count": 13,
      "metadata": {
        "id": "zXdG0dhoKffa"
      },
      "outputs": [],
      "source": [
        ""
      ]
    },
    {
      "cell_type": "code",
      "source": [
        "\n",
        "\n",
        "# Install the PyDrive wrapper & import libraries.\n",
        "# This only needs to be done once in a notebook.\n",
        "!pip install -U -q PyDrive\n",
        "from pydrive.auth import GoogleAuth\n",
        "from pydrive.drive import GoogleDrive\n",
        "from google.colab import auth\n",
        "from oauth2client.client import GoogleCredentials\n",
        "\n",
        "\n",
        "\n",
        "# Authenticate and create the PyDrive client.\n",
        "# This only needs to be done once in a notebook.\n",
        "auth.authenticate_user()\n",
        "gauth = GoogleAuth()\n",
        "gauth.credentials = GoogleCredentials.get_application_default()\n",
        "drive = GoogleDrive(gauth)\n",
        "\n",
        "\n",
        "\n",
        "# Create & upload a file.\n",
        "uploaded = drive.CreateFile({'data.xlsx': 'data.xlsx'})\n",
        "uploaded.SetContentFile('data.xlsx')\n",
        "uploaded.Upload()\n",
        "print('Uploaded file with ID {}'.format(uploaded.get('id')))"
      ],
      "metadata": {
        "id": "vCgVqbnA6l5n",
        "colab": {
          "base_uri": "https://localhost:8080/",
          "height": 391
        },
        "outputId": "d20639fd-379c-4f51-b89e-1d7faab29b9b"
      },
      "execution_count": 14,
      "outputs": [
        {
          "output_type": "stream",
          "name": "stdout",
          "text": [
            "\u001b[?25l\r\u001b[K    1% |▎                               | 10kB 15.5MB/s eta 0:00:01\r\u001b[K    2% |▋                               | 20kB 20.6MB/s eta 0:00:01\r\u001b[K    3% |█                               | 30kB 12.8MB/s eta 0:00:01\r\u001b[K    4% |█▎                              | 40kB 9.5MB/s eta 0:00:01\r\u001b[K    5% |█▋                              | 51kB 4.9MB/s eta 0:00:01\r\u001b[K    6% |██                              | 61kB 5.7MB/s eta 0:00:01\r\u001b[K    7% |██▎                             | 71kB 5.8MB/s eta 0:00:01\r\u001b[K    8% |██▋                             | 81kB 5.8MB/s eta 0:00:01\r\u001b[K    9% |███                             | 92kB 6.4MB/s eta 0:00:01\r\u001b[K    10% |███▎                            | 102kB 5.4MB/s eta 0:00:01\r\u001b[K    11% |███▋                            | 112kB 5.5MB/s eta 0:00:01\r\u001b[K    12% |████                            | 122kB 5.5MB/s eta 0:00:01\r\u001b[K    13% |████▎                           | 133kB 5.6MB/s eta 0:00:01\r\u001b[K    14% |████▋                           | 143kB 6.2MB/s eta 0:00:01\r\u001b[K    15% |█████                           | 153kB 9.4MB/s eta 0:00:01\r\u001b[K    16% |█████▎                          | 163kB 9.1MB/s eta 0:00:01\r\u001b[K    17% |█████▋                          | 174kB 10.4MB/s eta 0:00:01\r\u001b[K    18% |██████                          | 184kB 12.3MB/s eta 0:00:01\r\u001b[K    19% |██████▎                         | 194kB 12.4MB/s eta 0:00:01\r\u001b[K    20% |██████▋                         | 204kB 22.9MB/s eta 0:00:01\r\u001b[K    21% |███████                         | 215kB 21.2MB/s eta 0:00:01\r\u001b[K    22% |███████▎                        | 225kB 22.7MB/s eta 0:00:01\r\u001b[K    23% |███████▋                        | 235kB 13.1MB/s eta 0:00:01\r\u001b[K    24% |████████                        | 245kB 11.6MB/s eta 0:00:01\r\u001b[K    25% |████████▎                       | 256kB 12.0MB/s eta 0:00:01\r\u001b[K    26% |████████▋                       | 266kB 12.0MB/s eta 0:00:01\r\u001b[K    27% |█████████                       | 276kB 12.2MB/s eta 0:00:01\r\u001b[K    29% |█████████▎                      | 286kB 12.2MB/s eta 0:00:01\r\u001b[K    30% |█████████▋                      | 296kB 12.1MB/s eta 0:00:01\r\u001b[K    31% |██████████                      | 307kB 12.6MB/s eta 0:00:01\r\u001b[K    32% |██████████▎                     | 317kB 13.4MB/s eta 0:00:01\r\u001b[K    33% |██████████▋                     | 327kB 13.3MB/s eta 0:00:01\r\u001b[K    34% |███████████                     | 337kB 27.8MB/s eta 0:00:01\r\u001b[K    35% |███████████▎                    | 348kB 34.3MB/s eta 0:00:01\r\u001b[K    36% |███████████▋                    | 358kB 34.2MB/s eta 0:00:01\r\u001b[K    37% |████████████                    | 368kB 37.3MB/s eta 0:00:01\r\u001b[K    38% |████████████▎                   | 378kB 37.3MB/s eta 0:00:01\r\u001b[K    39% |████████████▋                   | 389kB 38.2MB/s eta 0:00:01\r\u001b[K    40% |█████████████                   | 399kB 38.2MB/s eta 0:00:01\r\u001b[K    41% |█████████████▎                  | 409kB 39.5MB/s eta 0:00:01\r\u001b[K    42% |█████████████▋                  | 419kB 39.9MB/s eta 0:00:01\r\u001b[K    43% |██████████████                  | 430kB 39.7MB/s eta 0:00:01\r\u001b[K    44% |██████████████▎                 | 440kB 40.2MB/s eta 0:00:01\r\u001b[K    45% |██████████████▋                 | 450kB 43.7MB/s eta 0:00:01\r\u001b[K    46% |███████████████                 | 460kB 43.4MB/s eta 0:00:01\r\u001b[K    47% |███████████████▎                | 471kB 44.4MB/s eta 0:00:01\r\u001b[K    48% |███████████████▋                | 481kB 44.8MB/s eta 0:00:01\r\u001b[K    49% |████████████████                | 491kB 44.3MB/s eta 0:00:01\r\u001b[K    50% |████████████████▎               | 501kB 44.8MB/s eta 0:00:01\r\u001b[K    51% |████████████████▋               | 512kB 43.1MB/s eta 0:00:01\r\u001b[K    52% |█████████████████               | 522kB 43.7MB/s eta 0:00:01\r\u001b[K    53% |█████████████████▎              | 532kB 24.8MB/s eta 0:00:01\r\u001b[K    54% |█████████████████▋              | 542kB 20.3MB/s eta 0:00:01\r\u001b[K    55% |██████████████████              | 552kB 20.9MB/s eta 0:00:01\r\u001b[K    57% |██████████████████▎             | 563kB 21.0MB/s eta 0:00:01\r\u001b[K    58% |██████████████████▋             | 573kB 20.7MB/s eta 0:00:01\r\u001b[K    59% |███████████████████             | 583kB 20.7MB/s eta 0:00:01\r\u001b[K    60% |███████████████████▎            | 593kB 20.7MB/s eta 0:00:01\r\u001b[K    61% |███████████████████▋            | 604kB 20.7MB/s eta 0:00:01\r\u001b[K    62% |████████████████████            | 614kB 21.0MB/s eta 0:00:01\r\u001b[K    63% |████████████████████▎           | 624kB 20.8MB/s eta 0:00:01\r\u001b[K    64% |████████████████████▋           | 634kB 32.6MB/s eta 0:00:01\r\u001b[K    65% |█████████████████████           | 645kB 45.5MB/s eta 0:00:01\r\u001b[K    66% |█████████████████████▎          | 655kB 45.0MB/s eta 0:00:01\r\u001b[K    67% |█████████████████████▋          | 665kB 37.3MB/s eta 0:00:01\r\u001b[K    68% |██████████████████████          | 675kB 37.3MB/s eta 0:00:01\r\u001b[K    69% |██████████████████████▎         | 686kB 37.3MB/s eta 0:00:01\r\u001b[K    70% |██████████████████████▋         | 696kB 37.1MB/s eta 0:00:01\r\u001b[K    71% |███████████████████████         | 706kB 36.3MB/s eta 0:00:01\r\u001b[K    72% |███████████████████████▎        | 716kB 36.8MB/s eta 0:00:01\r\u001b[K    73% |███████████████████████▋        | 727kB 36.4MB/s eta 0:00:01\r\u001b[K    74% |████████████████████████        | 737kB 36.8MB/s eta 0:00:01\r\u001b[K    75% |████████████████████████▎       | 747kB 36.9MB/s eta 0:00:01\r\u001b[K    76% |████████████████████████▋       | 757kB 37.1MB/s eta 0:00:01\r\u001b[K    77% |████████████████████████▉       | 768kB 45.2MB/s eta 0:00:01\r\u001b[K    78% |█████████████████████████▏      | 778kB 46.0MB/s eta 0:00:01\r\u001b[K    79% |█████████████████████████▌      | 788kB 46.0MB/s eta 0:00:01\r\u001b[K    80% |█████████████████████████▉      | 798kB 46.7MB/s eta 0:00:01\r\u001b[K    81% |██████████████████████████▏     | 808kB 48.0MB/s eta 0:00:01\r\u001b[K    82% |██████████████████████████▌     | 819kB 48.4MB/s eta 0:00:01\r\u001b[K    83% |██████████████████████████▉     | 829kB 50.4MB/s eta 0:00:01\r\u001b[K    85% |███████████████████████████▏    | 839kB 50.9MB/s eta 0:00:01\r\u001b[K    86% |███████████████████████████▌    | 849kB 51.0MB/s eta 0:00:01\r\u001b[K    87% |███████████████████████████▉    | 860kB 44.0MB/s eta 0:00:01\r\u001b[K    88% |████████████████████████████▏   | 870kB 43.4MB/s eta 0:00:01\r\u001b[K    89% |████████████████████████████▌   | 880kB 44.2MB/s eta 0:00:01\r\u001b[K    90% |████████████████████████████▉   | 890kB 44.8MB/s eta 0:00:01\r\u001b[K    91% |█████████████████████████████▏  | 901kB 43.9MB/s eta 0:00:01\r\u001b[K    92% |█████████████████████████████▌  | 911kB 43.6MB/s eta 0:00:01\r\u001b[K    93% |█████████████████████████████▉  | 921kB 43.4MB/s eta 0:00:01\r\u001b[K    94% |██████████████████████████████▏ | 931kB 43.6MB/s eta 0:00:01\r\u001b[K    95% |██████████████████████████████▌ | 942kB 43.8MB/s eta 0:00:01\r\u001b[K    96% |██████████████████████████████▉ | 952kB 41.9MB/s eta 0:00:01\r\u001b[K    97% |███████████████████████████████▏| 962kB 48.4MB/s eta 0:00:01\r\u001b[K    98% |███████████████████████████████▌| 972kB 49.3MB/s eta 0:00:01\r\u001b[K    99% |███████████████████████████████▉| 983kB 48.8MB/s eta 0:00:01\r\u001b[K    100% |████████████████████████████████| 993kB 1.3MB/s \n",
            "\u001b[31m  Operation cancelled by user\u001b[0m\n",
            "\u001b[?25h"
          ]
        },
        {
          "output_type": "error",
          "ename": "FileNotFoundError",
          "evalue": "ignored",
          "traceback": [
            "\u001b[0;31m---------------------------------------------------------------------------\u001b[0m",
            "\u001b[0;31mFileNotFoundError\u001b[0m                         Traceback (most recent call last)",
            "\u001b[0;32m<ipython-input-14-858a860d4fdd>\u001b[0m in \u001b[0;36m<module>\u001b[0;34m()\u001b[0m\n\u001b[1;32m     22\u001b[0m \u001b[0;31m# Create & upload a file.\u001b[0m\u001b[0;34m\u001b[0m\u001b[0;34m\u001b[0m\u001b[0;34m\u001b[0m\u001b[0m\n\u001b[1;32m     23\u001b[0m \u001b[0muploaded\u001b[0m \u001b[0;34m=\u001b[0m \u001b[0mdrive\u001b[0m\u001b[0;34m.\u001b[0m\u001b[0mCreateFile\u001b[0m\u001b[0;34m(\u001b[0m\u001b[0;34m{\u001b[0m\u001b[0;34m'data.xlsx'\u001b[0m\u001b[0;34m:\u001b[0m \u001b[0;34m'data.xlsx'\u001b[0m\u001b[0;34m}\u001b[0m\u001b[0;34m)\u001b[0m\u001b[0;34m\u001b[0m\u001b[0;34m\u001b[0m\u001b[0m\n\u001b[0;32m---> 24\u001b[0;31m \u001b[0muploaded\u001b[0m\u001b[0;34m.\u001b[0m\u001b[0mSetContentFile\u001b[0m\u001b[0;34m(\u001b[0m\u001b[0;34m'data.xlsx'\u001b[0m\u001b[0;34m)\u001b[0m\u001b[0;34m\u001b[0m\u001b[0;34m\u001b[0m\u001b[0m\n\u001b[0m\u001b[1;32m     25\u001b[0m \u001b[0muploaded\u001b[0m\u001b[0;34m.\u001b[0m\u001b[0mUpload\u001b[0m\u001b[0;34m(\u001b[0m\u001b[0;34m)\u001b[0m\u001b[0;34m\u001b[0m\u001b[0;34m\u001b[0m\u001b[0m\n\u001b[1;32m     26\u001b[0m \u001b[0mprint\u001b[0m\u001b[0;34m(\u001b[0m\u001b[0;34m'Uploaded file with ID {}'\u001b[0m\u001b[0;34m.\u001b[0m\u001b[0mformat\u001b[0m\u001b[0;34m(\u001b[0m\u001b[0muploaded\u001b[0m\u001b[0;34m.\u001b[0m\u001b[0mget\u001b[0m\u001b[0;34m(\u001b[0m\u001b[0;34m'id'\u001b[0m\u001b[0;34m)\u001b[0m\u001b[0;34m)\u001b[0m\u001b[0;34m)\u001b[0m\u001b[0;34m\u001b[0m\u001b[0;34m\u001b[0m\u001b[0m\n",
            "\u001b[0;32m/usr/local/lib/python3.7/dist-packages/pydrive/files.py\u001b[0m in \u001b[0;36mSetContentFile\u001b[0;34m(self, filename)\u001b[0m\n\u001b[1;32m    167\u001b[0m     \u001b[0;34m:\u001b[0m\u001b[0mtype\u001b[0m \u001b[0mfilename\u001b[0m\u001b[0;34m:\u001b[0m \u001b[0mstr\u001b[0m\u001b[0;34m.\u001b[0m\u001b[0;34m\u001b[0m\u001b[0;34m\u001b[0m\u001b[0m\n\u001b[1;32m    168\u001b[0m     \"\"\"\n\u001b[0;32m--> 169\u001b[0;31m     \u001b[0mself\u001b[0m\u001b[0;34m.\u001b[0m\u001b[0mcontent\u001b[0m \u001b[0;34m=\u001b[0m \u001b[0mopen\u001b[0m\u001b[0;34m(\u001b[0m\u001b[0mfilename\u001b[0m\u001b[0;34m,\u001b[0m \u001b[0;34m'rb'\u001b[0m\u001b[0;34m)\u001b[0m\u001b[0;34m\u001b[0m\u001b[0;34m\u001b[0m\u001b[0m\n\u001b[0m\u001b[1;32m    170\u001b[0m     \u001b[0;32mif\u001b[0m \u001b[0mself\u001b[0m\u001b[0;34m.\u001b[0m\u001b[0mget\u001b[0m\u001b[0;34m(\u001b[0m\u001b[0;34m'title'\u001b[0m\u001b[0;34m)\u001b[0m \u001b[0;32mis\u001b[0m \u001b[0;32mNone\u001b[0m\u001b[0;34m:\u001b[0m\u001b[0;34m\u001b[0m\u001b[0;34m\u001b[0m\u001b[0m\n\u001b[1;32m    171\u001b[0m       \u001b[0mself\u001b[0m\u001b[0;34m[\u001b[0m\u001b[0;34m'title'\u001b[0m\u001b[0;34m]\u001b[0m \u001b[0;34m=\u001b[0m \u001b[0mfilename\u001b[0m\u001b[0;34m\u001b[0m\u001b[0;34m\u001b[0m\u001b[0m\n",
            "\u001b[0;31mFileNotFoundError\u001b[0m: [Errno 2] No such file or directory: 'data.xlsx'"
          ]
        }
      ]
    },
    {
      "cell_type": "code",
      "execution_count": null,
      "metadata": {
        "id": "nlbVAtg8U_wh"
      },
      "outputs": [],
      "source": [
        ""
      ]
    }
  ],
  "metadata": {
    "colab": {
      "name": "Dr QA.ipynb",
      "provenance": [],
      "collapsed_sections": []
    },
    "kernelspec": {
      "display_name": "Python 3",
      "name": "python3"
    },
    "language_info": {
      "name": "python"
    },
    "accelerator": "GPU"
  },
  "nbformat": 4,
  "nbformat_minor": 0
}